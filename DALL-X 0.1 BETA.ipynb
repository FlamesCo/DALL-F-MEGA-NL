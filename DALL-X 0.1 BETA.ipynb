{
  "cells": [
    {
      "cell_type": "markdown",
      "id": "e13ed1c4",
      "metadata": {
        "id": "e13ed1c4",
        "pycharm": {
          "name": "#%% md\n"
        }
      },
      "source": [
        "<p =>\n",
        "\n",
        "\n",
        "<b>A Human-in-the-Loop<sup><a href=\"https://en.wikipedia.org/wiki/Human-in-the-loop\">?</a></sup> workflow for creating HD images from text</b>"
      ]
    },
    {
      "cell_type": "code",
      "execution_count": 4,
      "id": "3eab9216",
      "metadata": {},
      "outputs": [
        {
          "name": "stderr",
          "output_type": "stream",
          "text": [
            "UsageError: Line magic function `%anaconda` not found.\n"
          ]
        }
      ],
      "source": [
        "#[DALL X [C] - Flames LLC]\n",
        "\n",
        "\n",
        "## connect to google colab servers\n",
        "## make a anaconda enviroment for dall e\n",
        "## install all the packages\n",
        "%anaconda install -c conda-forge jupyterlab\n",
        "%conda install -c conda-forge jupyterlab\n",
        "% verify the installation of jupyterlab\n",
        "%conda list\n",
        "%conda install -c conda-forge jupyterlab\n",
        "% activate the anconda kernel\n",
        "% conda activate dall-x # this is the name of the anaconda enviroments\n",
        "\n",
        "%jupyter notebook --ip\n",
        "%jupyter notebook --port\n",
        "%jupyter notebook --no-browser\n",
        "%jupyter notebook --ip=  localhost\n",
        "%jupyter notebook --port=  8888\n",
        "% ask if you want to start the colab\n",
        "print(\"Syncing to localhost\")\n",
        "## wait 3 seconds\n",
        "import time # wait 3 seconds\n",
        "time.sleep(3)\n",
        "import os\n",
        "os.system(\"open http://localhost:8888\")\n",
        "print(\"Syncing to localhost\")\n",
        "time.sleep(3)\n",
        "# install all the anaconda packages for dall e flow on a m1\n",
        "%anaconda install -c conda-forge jupyterlab\n",
        "%conda install -c conda-forge jupyterlab\n",
        "% verify the installation of jupyterlab\\n\",\n",
        "%conda list\n",
        "%conda install -c conda-forge jupyterlab\n",
        "% activate the anconda kernel\n",
        "% conda activate dall-x # this is the name of the anaconda enviroments\n",
        "\n",
        "\n",
        "\n",
        "\n",
        " "
      ]
    },
    {
      "cell_type": "markdown",
      "id": "0836667a",
      "metadata": {
        "id": "0836667a",
        "pycharm": {
          "name": "#%% md\n"
        }
      },
      "source": [
        "[![GitHub Repo stars](https://img.shields.io/github/stars/jina-ai/dalle-flow?style=social)](https://github.com/jina-ai/dalle-flow) [![Google Colab](https://img.shields.io/badge/Slack-2.8k-blueviolet?logo=slack&amp;logoColor=white&style=flat-square)](https://slack.jina.ai) [![GitHub last commit (branch)](https://img.shields.io/github/last-commit/jina-ai/dalle-flow/main)](https://colab.research.google.com/github/jina-ai/dalle-flow/blob/main/client.ipynb)"
      ]
    },
    {
      "cell_type": "markdown",
      "id": "f11f924b",
      "metadata": {
        "id": "f11f924b",
        "pycharm": {
          "name": "#%% md\n"
        }
      },
      "source": [
        "\n",
        "\n",
        "🚧 If you find your request fails, it is possible the server is occasionally down for maintaince. Please give it a try in 5 minutes.\n",
        "\n",
        "- ⚠️ **2022/6/25** Unexpected downtime between 6/25 0:00 - 12:00 CET due to out of GPU quotas. The new server now has 2 GPUs, add healthcheck.\n",
        "- 2022/6/3 Reduce default number of images to 2 per pathway, 4 for diffusion.\n",
        "- ⚠️ 2022/5/23 Fix an upstream bug in CLIP-as-service. This bug makes the 2nd diffusion step irrelevant to the given texts. New Dockerfile proved to be reproducible on a AWS EC2 `p2.x8large` instance.\n",
        "- 2022/5/13b Removing TLS as Cloudflare gives 100s timeout, making DALLE Flow in usable [Please _reopen_ the notebook in Google Colab!](https://colab.research.google.com/github/jina-ai/dalle-flow/blob/main/client.ipynb).\n",
        "- 🔐 2022/5/13 New Mega checkpoint! All connections are now with TLS, [Please _reopen_ the notebook in Google Colab!](https://colab.research.google.com/github/jina-ai/dalle-flow/blob/main/client.ipynb).\n",
        "- 🌟 2022/5/10 [A Dockerfile is added! Now you can easily deploy your own DALL·E Flow](https://github.com/jina-ai/dalle-flow). New Mega checkpoint! Smaller memory-footprint, the whole Flow can now fit into **one GPU with 21GB memory**.\n",
        "- 🌟 2022/5/9 Less memory-footprint overall, the whole Flow can now fit into one GPU with 18GB memory!\n",
        "- 🌟 2022/5/7 DALL·E Flow just got updated!\n",
        "    - New DALL·E Mega checkpoint\n",
        "    - Improved GLID3 memory-efficiency and parameters\n",
        "- 🌟 2022/5/6 DALL·E Flow just got updated!\n",
        "    - The first step will generate 16 candidates: **8 from DALL·E Mega, 8 from GLID3-XL**; ranked by CLIP-as-service.\n",
        "    - Optimized the flow efficiency, diffusion and upscaling is much faster now!\n",
        "- ~~⚠️ 2022/5/3 **The number of images is restrict to 9 for DALL·E Mega, and 16 for GLID3-XL**~~\n",
        "- ⚠️ 2022/5/2 **Due to the massive requests now, the server is super busy.** You can deploy your own server by following [the instruction here](https://github.com/jina-ai/dalle-flow#server).\n"
      ]
    },
    {
      "cell_type": "markdown",
      "id": "e6af8cfd",
      "metadata": {
        "id": "e6af8cfd",
        "pycharm": {
          "name": "#%% md\n"
        }
      },
      "source": [
        "Using client is super easy. The following steps are best run in Jupyter notebook or [Google Colab](https://colab.research.google.com/github/jina-ai/dalle-flow/blob/main/client.ipynb).  \n",
        "\n",
        "The only dependency you will need are [DocArray](https://github.com/jina-ai/docarray) and [Jina](https://github.com/jina-ai/jina), as DocArray is already included in Jina you only need to install `jina`.\n",
        "\n",
        "> On Google Colab, you will be asked to restart the kernel. Go ahead and restart."
      ]
    },
    {
      "cell_type": "code",
      "execution_count": 5,
      "id": "c95e266f",
      "metadata": {
        "colab": {
          "base_uri": "https://localhost:8080/",
          "height": 1000
        },
        "id": "c95e266f",
        "outputId": "5b8a0475-cdc5-4363-a6b1-858826fc68c7",
        "pycharm": {
          "name": "#%%\n"
        }
      },
      "outputs": [
        {
          "name": "stdout",
          "output_type": "stream",
          "text": [
            "Requirement already satisfied: jina in /Users/flames/opt/anaconda3/lib/python3.9/site-packages (3.6.4)\n",
            "Requirement already satisfied: lz4<3.1.2 in /Users/flames/opt/anaconda3/lib/python3.9/site-packages (from jina) (3.1.1)\n",
            "Requirement already satisfied: fastapi>=0.76.0 in /Users/flames/opt/anaconda3/lib/python3.9/site-packages (from jina) (0.78.0)\n",
            "Requirement already satisfied: protobuf<=3.20.1,>=3.19.1 in /Users/flames/opt/anaconda3/lib/python3.9/site-packages (from jina) (3.19.1)\n",
            "Requirement already satisfied: requests in /Users/flames/opt/anaconda3/lib/python3.9/site-packages (from jina) (2.27.1)\n",
            "Requirement already satisfied: numpy in /Users/flames/opt/anaconda3/lib/python3.9/site-packages (from jina) (1.21.5)\n",
            "Requirement already satisfied: pathspec in /Users/flames/opt/anaconda3/lib/python3.9/site-packages (from jina) (0.7.0)\n",
            "Requirement already satisfied: pydantic in /Users/flames/opt/anaconda3/lib/python3.9/site-packages (from jina) (1.8.2)\n",
            "Requirement already satisfied: prometheus-client in /Users/flames/opt/anaconda3/lib/python3.9/site-packages (from jina) (0.13.1)\n",
            "Requirement already satisfied: websockets in /Users/flames/opt/anaconda3/lib/python3.9/site-packages (from jina) (10.3)\n",
            "Requirement already satisfied: grpcio-health-checking>=1.46.0 in /Users/flames/opt/anaconda3/lib/python3.9/site-packages (from jina) (1.46.3)\n",
            "Requirement already satisfied: docarray[common]>=0.13.14 in /Users/flames/opt/anaconda3/lib/python3.9/site-packages (from jina) (0.13.22)\n",
            "Requirement already satisfied: filelock in /Users/flames/opt/anaconda3/lib/python3.9/site-packages (from jina) (3.6.0)\n",
            "Requirement already satisfied: pyyaml>=5.3.1 in /Users/flames/opt/anaconda3/lib/python3.9/site-packages (from jina) (6.0)\n",
            "Requirement already satisfied: packaging>=20.0 in /Users/flames/opt/anaconda3/lib/python3.9/site-packages (from jina) (21.3)\n",
            "Requirement already satisfied: docker in /Users/flames/opt/anaconda3/lib/python3.9/site-packages (from jina) (5.0.3)\n",
            "Requirement already satisfied: aiofiles in /Users/flames/opt/anaconda3/lib/python3.9/site-packages (from jina) (0.8.0)\n",
            "Requirement already satisfied: uvloop in /Users/flames/opt/anaconda3/lib/python3.9/site-packages (from jina) (0.16.0)\n",
            "Requirement already satisfied: python-multipart in /Users/flames/opt/anaconda3/lib/python3.9/site-packages (from jina) (0.0.5)\n",
            "Requirement already satisfied: uvicorn[standard] in /Users/flames/opt/anaconda3/lib/python3.9/site-packages (from jina) (0.17.6)\n",
            "Requirement already satisfied: grpcio-reflection>=1.46.0 in /Users/flames/opt/anaconda3/lib/python3.9/site-packages (from jina) (1.46.3)\n",
            "Requirement already satisfied: aiohttp in /Users/flames/opt/anaconda3/lib/python3.9/site-packages (from jina) (3.8.1)\n",
            "Requirement already satisfied: cryptography in /Users/flames/opt/anaconda3/lib/python3.9/site-packages (from jina) (3.4.8)\n",
            "Requirement already satisfied: grpcio>=1.46.0 in /Users/flames/opt/anaconda3/lib/python3.9/site-packages (from jina) (1.46.3)\n",
            "Requirement already satisfied: aiostream in /Users/flames/opt/anaconda3/lib/python3.9/site-packages (from jina) (0.4.4)\n",
            "Requirement already satisfied: rich>=12.0.0 in /Users/flames/opt/anaconda3/lib/python3.9/site-packages (from docarray[common]>=0.13.14->jina) (12.4.4)\n",
            "Requirement already satisfied: matplotlib in /Users/flames/opt/anaconda3/lib/python3.9/site-packages (from docarray[common]>=0.13.14->jina) (3.5.1)\n",
            "Requirement already satisfied: Pillow in /Users/flames/opt/anaconda3/lib/python3.9/site-packages (from docarray[common]>=0.13.14->jina) (9.0.1)\n",
            "Requirement already satisfied: starlette==0.19.1 in /Users/flames/opt/anaconda3/lib/python3.9/site-packages (from fastapi>=0.76.0->jina) (0.19.1)\n",
            "Requirement already satisfied: typing-extensions>=3.10.0 in /Users/flames/opt/anaconda3/lib/python3.9/site-packages (from starlette==0.19.1->fastapi>=0.76.0->jina) (4.1.1)\n",
            "Requirement already satisfied: anyio<5,>=3.4.0 in /Users/flames/opt/anaconda3/lib/python3.9/site-packages (from starlette==0.19.1->fastapi>=0.76.0->jina) (3.5.0)\n",
            "Requirement already satisfied: idna>=2.8 in /Users/flames/opt/anaconda3/lib/python3.9/site-packages (from anyio<5,>=3.4.0->starlette==0.19.1->fastapi>=0.76.0->jina) (3.3)\n",
            "Requirement already satisfied: sniffio>=1.1 in /Users/flames/opt/anaconda3/lib/python3.9/site-packages (from anyio<5,>=3.4.0->starlette==0.19.1->fastapi>=0.76.0->jina) (1.2.0)\n",
            "Requirement already satisfied: six>=1.5.2 in /Users/flames/opt/anaconda3/lib/python3.9/site-packages (from grpcio>=1.46.0->jina) (1.16.0)\n",
            "Requirement already satisfied: pyparsing!=3.0.5,>=2.0.2 in /Users/flames/opt/anaconda3/lib/python3.9/site-packages (from packaging>=20.0->jina) (3.0.4)\n",
            "Requirement already satisfied: commonmark<0.10.0,>=0.9.0 in /Users/flames/opt/anaconda3/lib/python3.9/site-packages (from rich>=12.0.0->docarray[common]>=0.13.14->jina) (0.9.1)\n",
            "Requirement already satisfied: pygments<3.0.0,>=2.6.0 in /Users/flames/opt/anaconda3/lib/python3.9/site-packages (from rich>=12.0.0->docarray[common]>=0.13.14->jina) (2.11.2)\n",
            "Requirement already satisfied: yarl<2.0,>=1.0 in /Users/flames/opt/anaconda3/lib/python3.9/site-packages (from aiohttp->jina) (1.6.3)\n",
            "Requirement already satisfied: multidict<7.0,>=4.5 in /Users/flames/opt/anaconda3/lib/python3.9/site-packages (from aiohttp->jina) (5.2.0)\n",
            "Requirement already satisfied: async-timeout<5.0,>=4.0.0a3 in /Users/flames/opt/anaconda3/lib/python3.9/site-packages (from aiohttp->jina) (4.0.1)\n",
            "Requirement already satisfied: charset-normalizer<3.0,>=2.0 in /Users/flames/opt/anaconda3/lib/python3.9/site-packages (from aiohttp->jina) (2.0.4)\n",
            "Requirement already satisfied: frozenlist>=1.1.1 in /Users/flames/opt/anaconda3/lib/python3.9/site-packages (from aiohttp->jina) (1.2.0)\n",
            "Requirement already satisfied: aiosignal>=1.1.2 in /Users/flames/opt/anaconda3/lib/python3.9/site-packages (from aiohttp->jina) (1.2.0)\n",
            "Requirement already satisfied: attrs>=17.3.0 in /Users/flames/opt/anaconda3/lib/python3.9/site-packages (from aiohttp->jina) (21.4.0)\n",
            "Requirement already satisfied: cffi>=1.12 in /Users/flames/opt/anaconda3/lib/python3.9/site-packages (from cryptography->jina) (1.15.0)\n",
            "Requirement already satisfied: pycparser in /Users/flames/opt/anaconda3/lib/python3.9/site-packages (from cffi>=1.12->cryptography->jina) (2.21)\n",
            "Requirement already satisfied: websocket-client>=0.32.0 in /Users/flames/opt/anaconda3/lib/python3.9/site-packages (from docker->jina) (0.58.0)\n",
            "Requirement already satisfied: urllib3<1.27,>=1.21.1 in /Users/flames/opt/anaconda3/lib/python3.9/site-packages (from requests->jina) (1.26.9)\n",
            "Requirement already satisfied: certifi>=2017.4.17 in /Users/flames/opt/anaconda3/lib/python3.9/site-packages (from requests->jina) (2021.10.8)\n",
            "Requirement already satisfied: cycler>=0.10 in /Users/flames/opt/anaconda3/lib/python3.9/site-packages (from matplotlib->docarray[common]>=0.13.14->jina) (0.11.0)\n",
            "Requirement already satisfied: python-dateutil>=2.7 in /Users/flames/opt/anaconda3/lib/python3.9/site-packages (from matplotlib->docarray[common]>=0.13.14->jina) (2.8.2)\n",
            "Requirement already satisfied: fonttools>=4.22.0 in /Users/flames/opt/anaconda3/lib/python3.9/site-packages (from matplotlib->docarray[common]>=0.13.14->jina) (4.25.0)\n",
            "Requirement already satisfied: kiwisolver>=1.0.1 in /Users/flames/opt/anaconda3/lib/python3.9/site-packages (from matplotlib->docarray[common]>=0.13.14->jina) (1.3.2)\n",
            "Requirement already satisfied: h11>=0.8 in /Users/flames/opt/anaconda3/lib/python3.9/site-packages (from uvicorn[standard]->jina) (0.13.0)\n",
            "Requirement already satisfied: click>=7.0 in /Users/flames/opt/anaconda3/lib/python3.9/site-packages (from uvicorn[standard]->jina) (8.0.4)\n",
            "Requirement already satisfied: asgiref>=3.4.0 in /Users/flames/opt/anaconda3/lib/python3.9/site-packages (from uvicorn[standard]->jina) (3.5.2)\n",
            "Requirement already satisfied: watchgod>=0.6 in /Users/flames/opt/anaconda3/lib/python3.9/site-packages (from uvicorn[standard]->jina) (0.8.2)\n",
            "Requirement already satisfied: httptools>=0.4.0 in /Users/flames/opt/anaconda3/lib/python3.9/site-packages (from uvicorn[standard]->jina) (0.4.0)\n",
            "Requirement already satisfied: python-dotenv>=0.13 in /Users/flames/opt/anaconda3/lib/python3.9/site-packages (from uvicorn[standard]->jina) (0.20.0)\n"
          ]
        },
        {
          "name": "stderr",
          "output_type": "stream",
          "text": [
            "UsageError: Line magic function `%jupyter` not found.\n"
          ]
        }
      ],
      "source": [
        "!pip install jina\n",
        "\n",
        "## use the colab server to start the jupyter notebook on the google colab server localhost\n",
        "%jupyter notebook --ip=  localhost\n",
        "%jupyter notebook --port=  8888\n",
        "% ask if you want to start the colab\n",
        "print(\"Syncing to localhost\")\n",
        "## wait 3 seconds\n",
        "import time # wait 3 seconds\n",
        "time.sleep(3)\n",
        "import os\n",
        "os.system(\"open http://localhost:8888\")\n",
        "print(\"Syncing to localhost\")\n",
        "time.sleep(3)\n",
        "# install all the anaconda packages for dall e flow on a m1\n",
        "%anaconda install -c conda-forge jupyterlab\n",
        "%conda install -c conda-forge jupyterlab\n",
        "% verify the installation of jupyterlab\\n\",\n",
        "%conda list\n",
        "%conda install -c conda-forge jupyterlab\n",
        "% activate the anconda kernel\n",
        "% conda activate dall-x # this is the name of the anaconda enviroments\n",
        "\n",
        "%jupyter notebook --ip=  localhost\n",
        "%jupyter notebook --port=  8888\n",
        "%jupyter notebook --no-browser\n",
        "%jupyter notebook --ip=  localhost\n",
        "%jupyter notebook --port=  8888\n",
        "% ask if you want to start the colab\n",
        "print(\"Syncing to localhost\")\n",
        "## wait 3 seconds\n",
        "import time # wait 3 seconds\n",
        "time.sleep(3)\n",
        "import os\n",
        "os.system(\"open http://localhost:8888\")\n",
        "print(\"Syncing to localhost\")\n",
        "time.sleep(3)\n",
        "# install all the anaconda packages for dall e flow on a m1\n",
        "%anaconda install -c conda-forge jupyterlab\n",
        "%conda install -c conda-forge jupyterlab\n",
        "% verify the installation of jupyterlab\\n\",\n",
        "%conda list\n",
        "%conda install -c conda-forge jupyterlab\n",
        "% activate the anconda kernel\n",
        "% conda activate dall-x # this is the name of the anaconda enviroments\n",
        "\n",
        "%jupyter notebook --ip=  localhost\n",
        "%jupyter notebook --port=  8888\n",
        "%jupyter notebook --no-browser\n",
        "%jupyter notebook --ip=  localhost\n",
        "%jupyter notebook --port=  8888\n",
        "% ask if you want to"
      ]
    },
    {
      "cell_type": "markdown",
      "id": "3059e59c",
      "metadata": {
        "id": "3059e59c",
        "pycharm": {
          "name": "#%%\n"
        }
      },
      "source": [
        "We have provided a demo server for you to play:"
      ]
    },
    {
      "cell_type": "code",
      "execution_count": 6,
      "id": "3f1bb189",
      "metadata": {
        "id": "3f1bb189",
        "pycharm": {
          "name": "#%%\n"
        }
      },
      "outputs": [
        {
          "name": "stderr",
          "output_type": "stream",
          "text": [
            "UsageError: Line magic function `%jupyter` not found.\n"
          ]
        }
      ],
      "source": [
        "### launch the servel url in a browser\n",
        "%jupyter notebook --ip=  localhost\n",
        "%jupyter notebook --port=  8888\n",
        "%jupyter notebook --no-browser\n",
        "%jupyter notebook --ip=  localhost\n",
        "## and make a gui\n",
        "%jupyter notebook --ip=  localhost\n",
        "os.enviment[\"JUPYTER_RUNTIME_DIR\"]\n",
        "%jupyter notebook --port=  8888\n",
        "## make a streamlit gui like dall e\n",
        "import streamlit\n",
        "streamlit.title(\"DALL-X\")\n",
        "streamlit.subheader(\"DALL-X\")\n",
        "## write the inpainting app\n",
        "import streamlit as st\n",
        "streamlit.title(\"DALL-X\")\n",
        " #  point to the data folder of dall e flow and grab the google colab gui and launch it locally in the browser\n",
        "import os\n",
        "os.system(\"open http://localhost:8888\")\n",
        "## check if it has a gpu or m1 chip\n",
        "%conda install -c conda-forge tensorflow-gpu\n",
        "%conda install -c conda-forge tensorflow-gpu\n",
        "%conda install -c conda-forge tensorflow-gpu\n"
      ]
    },
    {
      "cell_type": "markdown",
      "id": "a8e896c8",
      "metadata": {
        "id": "a8e896c8"
      },
      "source": [
        "## (optional) Check how many pending requests on the server\n",
        "\n",
        "Our demo server can be very very crowded, hence when running the code below it may take unexpected long time. \n",
        "\n",
        "Fortunately, [Jina](https://github.com/jina-ai/jina) has integrated [Prometheus](https://prometheus.io/) which allows user to check the status of the server. In particular, in this case we are interested in the number queuing/pending requests, which gives us an idea how crowd is the server."
      ]
    },
    {
      "cell_type": "code",
      "execution_count": 7,
      "id": "c7b752e8",
      "metadata": {
        "colab": {
          "base_uri": "https://localhost:8080/"
        },
        "id": "c7b752e8",
        "outputId": "335f7af4-1b63-4e17-fc30-7f1fe2eab945"
      },
      "outputs": [
        {
          "name": "stdout",
          "output_type": "stream",
          "text": [
            "1222.0\n"
          ]
        }
      ],
      "source": [
        "!curl -s http://dalle-flow.jina.ai:51006  | grep 'jina_number_of_pending_requests{runtime_name=\"gateway/rep-0/GRPCGatewayRuntime\"}' | cut -d' ' -f 2"
      ]
    },
    {
      "cell_type": "markdown",
      "id": "72aacbed",
      "metadata": {
        "id": "72aacbed",
        "pycharm": {
          "name": "#%% md\n"
        }
      },
      "source": [
        "### Step 1: Generate via DALL·E Mega\n",
        "\n",
        "Now let's define the prompt:"
      ]
    },
    {
      "cell_type": "code",
      "execution_count": 8,
      "id": "ac1ec094",
      "metadata": {
        "id": "ac1ec094",
        "pycharm": {
          "name": "#%%\n"
        }
      },
      "outputs": [
        {
          "name": "stderr",
          "output_type": "stream",
          "text": [
            "UsageError: Line magic function `%anaconda` not found.\n"
          ]
        }
      ],
      "source": [
        "## install the jupyter notebook\n",
        "%anaconda install -c conda-forge jupyterlab\n",
        "print(\"Making sure that the right version of jupyter is installed\")\n",
        "%conda install -c conda-forge jupyterlab\n",
        " ## ok \n",
        "\n",
        "## use streamlit to make a gui\n",
        "import streamlit as st\n",
        "st.title(\"DALL-X\")\n",
        "st.subheader(\"DALL-X\")\n",
        "## write the inpainting app\n",
        "import streamlit as st\n",
        "st.title(\"DALL-X\")\n",
        "    # write a 800x800 photo editor\n",
        "streamlit.gui(\"localhost:8888\")\n",
        "  \n",
        "  ## write the dall e flow inpainting app and launch it locally in the browser\n",
        "import os\n",
        "os.system(\"open http://localhost:8888\")\n"
      ]
    },
    {
      "cell_type": "markdown",
      "id": "de6d7244",
      "metadata": {
        "id": "de6d7244"
      },
      "source": [
        "Do you need some hints and suggestions on the prompt? Check out those tricks:\n",
        " - [A Guide to Writing Prompts for Text-to-image AI](https://docs.google.com/document/d/17VPu3U2qXthOpt2zWczFvf-AH6z37hxUbvEe1rJTsEc/edit?usp=sharing)\n",
        " - [CLIP Templates](https://docs.google.com/document/d/1j2IAumYz4iZopOTAAOcCUKbFXP0jHK8mRgD4NLFKkaw/edit?usp=sharing)"
      ]
    },
    {
      "cell_type": "markdown",
      "id": "69d0b10b",
      "metadata": {
        "id": "69d0b10b",
        "pycharm": {
          "name": "#%% md\n"
        }
      },
      "source": [
        "Let's submit it to the server and visualize the results:"
      ]
    },
    {
      "cell_type": "code",
      "execution_count": 11,
      "id": "da672930",
      "metadata": {
        "id": "da672930",
        "pycharm": {
          "name": "#%%\n"
        }
      },
      "outputs": [
        {
          "name": "stderr",
          "output_type": "stream",
          "text": [
            "UsageError: Line magic function `%anaconda` not found.\n"
          ]
        }
      ],
      "source": [
        "%%time\n",
        "## install juypter notebook\n",
        "%anaconda install -c conda-forge jupyterlab\n",
        "\n",
        "from docarray import Document\n",
        "\n",
        "## go to the photo editor on localhost in the default browser\n",
        "%jupyter notebook --ip=  localhost\n",
        "%jupyter notebook --port=  8888\n",
        "%jupyter notebook %browser=  True\n",
        "da.plot_image_sprites(fig_size=(10,10), show_index=True)"
      ]
    },
    {
      "cell_type": "markdown",
      "id": "9298f59f",
      "metadata": {
        "id": "9298f59f",
        "pycharm": {
          "name": "#%% md\n"
        }
      },
      "source": [
        "Here we generate 4 candidates, 2 from DALLE-mega and 2 from GLID3 XL, this is as defined in `num_images`, which takes about ~2 minutes. You can use a smaller value if it is too long for you. The results are sorted by [CLIP-as-service](https://github.com/jina-ai/clip-as-service), with index-`0` as the best candidate judged by CLIP. \n",
        "\n",
        "> You could generate up to 8 images per pathway via `num_images`, resulting 16 candidate images in total. But it will be much slower."
      ]
    },
    {
      "cell_type": "markdown",
      "id": "3bf3a62b",
      "metadata": {
        "id": "3bf3a62b",
        "pycharm": {
          "name": "#%% md\n"
        }
      },
      "source": [
        "### Step 2: Select and refinement via GLID3 XL\n",
        "\n",
        "Of course, you may think differently. Notice the number in the top-left corner? Select the one you like the most and get a better view:"
      ]
    },
    {
      "cell_type": "code",
      "execution_count": null,
      "id": "8e106718",
      "metadata": {
        "id": "8e106718",
        "pycharm": {
          "name": "#%%\n"
        }
      },
      "outputs": [],
      "source": [
        "fav_id = 3\n",
        "\n",
        "fav = da[fav_id]\n",
        "\n",
        "fav.display()"
      ]
    },
    {
      "cell_type": "markdown",
      "id": "eec3e4ea",
      "metadata": {
        "id": "eec3e4ea",
        "pycharm": {
          "name": "#%% md\n"
        }
      },
      "source": [
        "Now let's submit the selected candidates to the server for diffusion."
      ]
    },
    {
      "cell_type": "code",
      "execution_count": null,
      "id": "13cf87ce",
      "metadata": {
        "id": "13cf87ce",
        "pycharm": {
          "name": "#%%\n"
        }
      },
      "outputs": [],
      "source": [
        "%%time\n",
        "\n",
        "diffused = fav.post(f'{server_url}', parameters={'skip_rate': 0.6, 'num_images': 4}, target_executor='diffusion').matches\n",
        "\n",
        "diffused.plot_image_sprites(fig_size=(10,10), show_index=True)"
      ]
    },
    {
      "cell_type": "markdown",
      "id": "fbb54ed9",
      "metadata": {
        "id": "fbb54ed9",
        "pycharm": {
          "name": "#%% md\n"
        }
      },
      "source": [
        "This will give 4 images based on the given image. You may allow the model to improvise more by giving `skip_rate` a near-zero value, or a near-one value to force its closeness to the given image. The whole procedure takes about ~1 minutes.\n",
        "\n",
        "> You could generate upto 8 images via `num_images`. But it will be slower."
      ]
    },
    {
      "cell_type": "markdown",
      "id": "978ccf66",
      "metadata": {
        "id": "978ccf66",
        "pycharm": {
          "name": "#%% md\n"
        }
      },
      "source": [
        "### Step 3: Select and upscale via SwinIR\n",
        "\n",
        "Select the image you like the most, and give it a closer look:\n"
      ]
    },
    {
      "cell_type": "code",
      "execution_count": null,
      "id": "7f00f44e",
      "metadata": {
        "id": "7f00f44e",
        "pycharm": {
          "name": "#%%\n"
        }
      },
      "outputs": [],
      "source": [
        "dfav_id = 2\n",
        "\n",
        "fav = diffused[dfav_id]\n",
        "\n",
        "fav.display()"
      ]
    },
    {
      "cell_type": "markdown",
      "id": "ab54a790",
      "metadata": {
        "id": "ab54a790",
        "pycharm": {
          "name": "#%% md\n"
        }
      },
      "source": [
        "If not satisfied, you can rerun the last cell in step 2 with this new `fav`.\n",
        "\n",
        "Finally, submit to the server for the last step: upscaling to 1024 x 1024px.\n",
        "\n",
        "> This step should be much faster (~10s) as the Flow is designed in unblocked manner."
      ]
    },
    {
      "cell_type": "code",
      "execution_count": null,
      "id": "b60e8bfc",
      "metadata": {
        "id": "b60e8bfc",
        "pycharm": {
          "name": "#%%\n"
        }
      },
      "outputs": [],
      "source": [
        "%%time\n",
        "\n",
        "fav = fav.post(f'{server_url}/upscale')\n",
        "fav.display()"
      ]
    },
    {
      "cell_type": "markdown",
      "id": "e910e8aa",
      "metadata": {
        "id": "e910e8aa",
        "pycharm": {
          "name": "#%%\n"
        }
      },
      "source": [
        "> 💁‍♂️ On Google colab this image may render exactly the same size as before. But it is in 1024x1024 already. Right click on the image and copy/save it. You will see.\n",
        "\n",
        "That's it! It is _the one_.\n",
        "\n",
        "\n",
        "Btw, [DocArray is a powerful and easy-to-use data structure for unstructured data](https://github.com/jina-ai/docarray), that makes all of these possible. It is super productive for data scientists who work in cross-/multi-modal domain. To learn more about DocArray, [please check out the docs](https://docarray.jina.ai)."
      ]
    }
  ],
  "metadata": {
    "accelerator": "TPU",
    "colab": {
      "name": "DALL-X 1.0X Fold #0.ipynb",
      "provenance": []
    },
    "gpuClass": "standard",
    "interpreter": {
      "hash": "d8aadd8f3d46a6455558f03103fce674642f8e835ec75174344e60f0d6d6f46c"
    },
    "kernelspec": {
      "display_name": "Python 3.9.12 ('base')",
      "language": "python",
      "name": "python3"
    },
    "language_info": {
      "codemirror_mode": {
        "name": "ipython",
        "version": 3
      },
      "file_extension": ".py",
      "mimetype": "text/x-python",
      "name": "python",
      "nbconvert_exporter": "python",
      "pygments_lexer": "ipython3",
      "version": "3.9.12"
    }
  },
  "nbformat": 4,
  "nbformat_minor": 5
}
